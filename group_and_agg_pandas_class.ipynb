{
  "nbformat": 4,
  "nbformat_minor": 0,
  "metadata": {
    "colab": {
      "name": "group_and_agg_pandas_class.ipynb",
      "provenance": [],
      "collapsed_sections": [
        "8D279AFGy52z",
        "g6jk7GzhPDF3",
        "_YOrXSRA1Ux6",
        "O2QrEW8s1dhz",
        "M5KNQI8f5NFj",
        "m6iqEl3F5XNj",
        "swEkyyqGFxXU",
        "3kZaEN0FHyCS",
        "lf09SCWDM3R3",
        "i2zlvpn9L2Ef",
        "ANu3qzx-No-1",
        "5zc8xKBXB2Rd",
        "1H_TXANL7xBS",
        "IyWLs0R88L0Q",
        "e2eg11U49YaF",
        "aBbrBF9S-Auo",
        "EIGjw5atjAb-",
        "qCJ4hk7jqy95"
      ],
      "authorship_tag": "ABX9TyMyw0GOD7DwkR83LjtLXvK4",
      "include_colab_link": true
    },
    "kernelspec": {
      "name": "python3",
      "display_name": "Python 3"
    },
    "language_info": {
      "name": "python"
    }
  },
  "cells": [
    {
      "cell_type": "markdown",
      "metadata": {
        "id": "view-in-github",
        "colab_type": "text"
      },
      "source": [
        "<a href=\"https://colab.research.google.com/github/engcarlosperezmolero/colabs_sharing/blob/main/group_and_agg_pandas_class.ipynb\" target=\"_parent\"><img src=\"https://colab.research.google.com/assets/colab-badge.svg\" alt=\"Open In Colab\"/></a>"
      ]
    },
    {
      "cell_type": "markdown",
      "source": [
        "---\n",
        "# Hack para visualizar mas comodamente 🤓\n"
      ],
      "metadata": {
        "id": "8D279AFGy52z"
      }
    },
    {
      "cell_type": "code",
      "source": [
        "class display(object):\n",
        "    \"\"\"Display HTML representation of multiple objects\"\"\"\n",
        "    template = \"\"\"<div style=\"float: left; padding: 20px;\">\n",
        "    <p style='font-family:\"Courier New\", Courier, monospace'><strong>{0}</strong></p>{1}\n",
        "    </div>\"\"\"\n",
        "    def __init__(self, *args):\n",
        "        self.args = args\n",
        "\n",
        "    def _repr_html_(self):\n",
        "        return '\\n'.join(self.template.format(a, eval(a)._repr_html_()) for a in self.args)\n",
        "\n",
        "    def __repr__(self):\n",
        "        return '\\n\\n'.join(a + '\\n' + repr(eval(a)) for a in self.args)"
      ],
      "metadata": {
        "id": "tMmmKAivy9zk"
      },
      "execution_count": null,
      "outputs": []
    },
    {
      "cell_type": "code",
      "source": [
        "import pandas as pd\n",
        "\n",
        "df1 = pd.DataFrame({\"col1\": [1,2,3,4], \"col2\": list(\"abcd\")})\n",
        "df2 = pd.DataFrame({\"col3\": [55,12,7668,31,123], \"col4\": [\"aasd\", \"akjsdh\", \"lakjsdf\", \"kjasdlk\", \"lkzdj\"]})"
      ],
      "metadata": {
        "id": "yUx1aFs70cqW"
      },
      "execution_count": null,
      "outputs": []
    },
    {
      "cell_type": "code",
      "source": [
        "display(\"df1\", \"df2\")"
      ],
      "metadata": {
        "id": "kTjrbaA3081l"
      },
      "execution_count": null,
      "outputs": []
    },
    {
      "cell_type": "markdown",
      "source": [
        "---\n",
        "# Acerca del dataset cammesa-renovable-energies 🧐\n"
      ],
      "metadata": {
        "id": "g6jk7GzhPDF3"
      }
    },
    {
      "cell_type": "markdown",
      "source": [
        "https://cammesaweb.cammesa.com/erenovables/\n",
        "\n",
        "COMPAÑÍA ADMINISTRADORA DEL MERCADO MAYORISTA ELECTRICO SOCIEDAD ANÓNIMA (CAMMESA)\n",
        "\n",
        "La Base de Datos contiene información relativa a la generación de energía eléctrica proveniente de fuentes renovables de energía en relación al RÉGIMEN DE FOMENTO NACIONAL PARA EL USO DE FUENTES RENOVABLES DE ENERGÍA DESTINADA A LA PRODUCCIÓN DE ENERGÍA ELÉCTRICA, sancionado a través de la Ley N° 26.190\n",
        "\n",
        "La Base de Datos es de paso mensual, desde Enero 2011, conteniendo los siguientes campos:\n",
        "\n",
        "a) Central / máquina por región del país;\n",
        "\n",
        "b) Tipo de fuente de energía renovable (Hidro < 50 MW; Eólico, Solar, Biomasa, Biodiesel)\n",
        "\n",
        "c) Energía Generada (GWh)\n",
        "\n",
        "d) Demanda total MEM (GWh)"
      ],
      "metadata": {
        "id": "G1qtlSIPQGmk"
      }
    },
    {
      "cell_type": "markdown",
      "source": [
        "---\n",
        "# Descargamos el dataset de kaggle 📊"
      ],
      "metadata": {
        "id": "_YOrXSRA1Ux6"
      }
    },
    {
      "cell_type": "code",
      "source": [
        "def download_kaggle_dataset_to_colab_instance(api_command_from_kaggle: str, json_content: str) -> None:\n",
        "    \"\"\"\n",
        "    descarga un dataset de la base de datasets de kaggle y lo guarda en la instancia de google colab activa.\n",
        "\n",
        "    args: \n",
        "        api_command_from_kaggle: es la linea de api que genera kaggle sobre el dataset, se consigue en las opciones del dataset.\n",
        "        json_content: es el contenido del json que genera Kaggle cuando se genera una API TOKEN.\n",
        "    \n",
        "    \"\"\"\n",
        "    from zipfile import ZipFile\n",
        "    ! pip install kaggle\n",
        "    ! mkdir /root/.kaggle/\n",
        "    with open(\"/root/.kaggle/kaggle.json\", \"w\") as token:\n",
        "        token.write(json_content)\n",
        "    ! chmod 600 /root/.kaggle/kaggle.json\n",
        "    ! kaggle config path -p /root/.kaggle/\n",
        "    ! $api_command_from_kaggle\n",
        "    name = f\"{api_command_from_kaggle.split('/')[-1]}.zip\"\n",
        "    zip_ref = ZipFile(f\"/content/{name}\")\n",
        "    zip_ref.extractall()\n",
        "    zip_ref.close()\n",
        "    ! rm $name\n"
      ],
      "metadata": {
        "id": "VcIenSXmvAM-"
      },
      "execution_count": null,
      "outputs": []
    },
    {
      "cell_type": "code",
      "source": [
        "download_kaggle_dataset_to_colab_instance(\"kaggle datasets download -d ccollado7/alternative-energies-argentina\", '{\"username\":\"charlymolero\",\"key\":\"1d6b921759c70f37b628bb3d636a143a\"}')"
      ],
      "metadata": {
        "id": "c3Nj1Ef6v1lS"
      },
      "execution_count": null,
      "outputs": []
    },
    {
      "cell_type": "markdown",
      "source": [
        "---\n",
        "# Ahora usamos el dataset 😎"
      ],
      "metadata": {
        "id": "O2QrEW8s1dhz"
      }
    },
    {
      "cell_type": "code",
      "source": [
        "import numpy as np\n",
        "import pandas as pd\n",
        "import plotly.express as px"
      ],
      "metadata": {
        "id": "_cCcT2HzzDMR"
      },
      "execution_count": null,
      "outputs": []
    },
    {
      "cell_type": "code",
      "source": [
        "df = pd.read_csv(\"/content/energias-alternativas.csv\", encoding=\"unicode_escape\", engine=\"python\")"
      ],
      "metadata": {
        "id": "2_eM6lmG1QhV"
      },
      "execution_count": null,
      "outputs": []
    },
    {
      "cell_type": "code",
      "source": [
        "df.head()"
      ],
      "metadata": {
        "id": "Vzc6LSpfQS9Q"
      },
      "execution_count": null,
      "outputs": []
    },
    {
      "cell_type": "code",
      "source": [
        "df.info()"
      ],
      "metadata": {
        "id": "4VeiktZ51sQp"
      },
      "execution_count": null,
      "outputs": []
    },
    {
      "cell_type": "code",
      "source": [
        "df.head()"
      ],
      "metadata": {
        "id": "rph4r8OR1884"
      },
      "execution_count": null,
      "outputs": []
    },
    {
      "cell_type": "markdown",
      "source": [
        "---\n",
        "# Analicemos la Generación de energia para cada tipo de energia alternativa en argentina (suma)."
      ],
      "metadata": {
        "id": "M5KNQI8f5NFj"
      }
    },
    {
      "cell_type": "code",
      "source": [
        "df.actividad_producto_nombre.value_counts()"
      ],
      "metadata": {
        "id": "9XEaLdDw1-ZH"
      },
      "execution_count": null,
      "outputs": []
    },
    {
      "cell_type": "code",
      "source": [
        "df.indicador.value_counts()"
      ],
      "metadata": {
        "id": "_JOEjHOm3bIe"
      },
      "execution_count": null,
      "outputs": []
    },
    {
      "cell_type": "code",
      "source": [
        "df.unidad_de_medida.value_counts()"
      ],
      "metadata": {
        "id": "sGDnmE524ekt"
      },
      "execution_count": null,
      "outputs": []
    },
    {
      "cell_type": "code",
      "source": [
        "generacion_por_energia = df[df[\"indicador\"] == \"Generación\"].groupby(\"actividad_producto_nombre\").aggregate({\"valor\": \"sum\"}).sort_values(by=[\"valor\"], ascending=False).reset_index()"
      ],
      "metadata": {
        "id": "yXHo-fPL2Q1f"
      },
      "execution_count": null,
      "outputs": []
    },
    {
      "cell_type": "code",
      "source": [
        "generacion_por_energia"
      ],
      "metadata": {
        "id": "ByGiItVY7A_X"
      },
      "execution_count": null,
      "outputs": []
    },
    {
      "cell_type": "code",
      "source": [
        "fig = px.bar(x = generacion_por_energia.actividad_producto_nombre, y = generacion_por_energia.valor)\n",
        "fig.update_xaxes(type='category')\n",
        "fig.update_layout(\n",
        "    xaxis_title=\"Energia Alternativa\",\n",
        "    yaxis_title=\"Generación (MWh)\",\n",
        ")\n",
        "fig.show()"
      ],
      "metadata": {
        "id": "7gEMnTg7C7Vv"
      },
      "execution_count": null,
      "outputs": []
    },
    {
      "cell_type": "markdown",
      "source": [
        "---\n",
        "# Analicemos la Generación en cada provincia (suma)."
      ],
      "metadata": {
        "id": "m6iqEl3F5XNj"
      }
    },
    {
      "cell_type": "code",
      "source": [
        "df.head()"
      ],
      "metadata": {
        "id": "VPzonBM24UJo"
      },
      "execution_count": null,
      "outputs": []
    },
    {
      "cell_type": "code",
      "source": [
        "df[df['indicador'] == \"Generación\"].groupby(\"alcance_nombre\").aggregate({\"valor\": \"sum\"})"
      ],
      "metadata": {
        "id": "twwVOJo4zVwb"
      },
      "execution_count": null,
      "outputs": []
    },
    {
      "cell_type": "code",
      "source": [
        "energia_por_provincia = df[df['indicador'] == \"Generación\"].groupby(\"alcance_nombre\").aggregate({\"valor\": \"sum\"}).sort_values(by=[\"valor\"]).reset_index()"
      ],
      "metadata": {
        "id": "vLtQ-3DHEbcZ"
      },
      "execution_count": null,
      "outputs": []
    },
    {
      "cell_type": "code",
      "source": [
        "energia_por_provincia"
      ],
      "metadata": {
        "id": "O8eVUhyT7vfT"
      },
      "execution_count": null,
      "outputs": []
    },
    {
      "cell_type": "code",
      "source": [
        "fig = px.bar(x = energia_por_provincia.alcance_nombre, y = energia_por_provincia.valor)\n",
        "fig.update_xaxes(type='category')\n",
        "fig.update_layout(\n",
        "    xaxis_title=\"Provincia\",\n",
        "    yaxis_title=\"Generación (MWh)\",\n",
        ")\n",
        "fig.show()"
      ],
      "metadata": {
        "id": "xEQjFse1FQmU"
      },
      "execution_count": null,
      "outputs": []
    },
    {
      "cell_type": "markdown",
      "source": [
        "---\n",
        "# Analicemos los tipos de energia en cada provincia (conteo y multiindex)"
      ],
      "metadata": {
        "id": "swEkyyqGFxXU"
      }
    },
    {
      "cell_type": "code",
      "source": [
        "df.head()"
      ],
      "metadata": {
        "id": "o78kRQWjFw0h"
      },
      "execution_count": null,
      "outputs": []
    },
    {
      "cell_type": "code",
      "source": [
        ""
      ],
      "metadata": {
        "id": "CRhBmgLN0j_R"
      },
      "execution_count": null,
      "outputs": []
    },
    {
      "cell_type": "code",
      "source": [
        "df_prov = df[df[\"indicador\"] == \"Generación\"].groupby([\"alcance_nombre\", \"actividad_producto_nombre\"]).aggregate({\"valor\": [\"size\", \"sum\"]})"
      ],
      "metadata": {
        "id": "3QVPC_APGDAL"
      },
      "execution_count": null,
      "outputs": []
    },
    {
      "cell_type": "code",
      "source": [
        ""
      ],
      "metadata": {
        "id": "KSZWrp7C2V2T"
      },
      "execution_count": null,
      "outputs": []
    },
    {
      "cell_type": "markdown",
      "source": [
        "---\n",
        "# Analicemos la generación de energia por año y mes (suma, multindex, group con datetimes y unstack)"
      ],
      "metadata": {
        "id": "3kZaEN0FHyCS"
      }
    },
    {
      "cell_type": "markdown",
      "source": [
        "### usando la columna tal y como viene (en object -> str)"
      ],
      "metadata": {
        "id": "lf09SCWDM3R3"
      }
    },
    {
      "cell_type": "code",
      "source": [
        "df.head()"
      ],
      "metadata": {
        "id": "oaJbkoShH4SA"
      },
      "execution_count": null,
      "outputs": []
    },
    {
      "cell_type": "code",
      "source": [
        "df.indice_tiempo.str.split(\"-\", expand = True)[1]"
      ],
      "metadata": {
        "id": "GBZ1NnkF3Ysn"
      },
      "execution_count": null,
      "outputs": []
    },
    {
      "cell_type": "code",
      "source": [
        "df[\"year\"] = df.indice_tiempo.str.split(\"-\", expand = True)[0]\n",
        "df[\"month\"] = df.indice_tiempo.str.split(\"-\", expand = True)[1]"
      ],
      "metadata": {
        "id": "GUZVl1UxH7SH"
      },
      "execution_count": null,
      "outputs": []
    },
    {
      "cell_type": "code",
      "source": [
        "df[df[\"indicador\"] == \"Generación\"].groupby([\"year\", \"month\"]).aggregate({\"valor\": \"sum\"})"
      ],
      "metadata": {
        "id": "w1lf6wwcIaHU"
      },
      "execution_count": null,
      "outputs": []
    },
    {
      "cell_type": "markdown",
      "source": [
        "### casteando a datetime"
      ],
      "metadata": {
        "id": "i2zlvpn9L2Ef"
      }
    },
    {
      "cell_type": "code",
      "source": [
        "dfdt = df.copy()\n",
        "dfdt.info()"
      ],
      "metadata": {
        "id": "jK5QuFmJL7SB"
      },
      "execution_count": null,
      "outputs": []
    },
    {
      "cell_type": "code",
      "source": [
        "pd.to_datetime(dfdt.indice_tiempo)\n"
      ],
      "metadata": {
        "id": "rviaM_Pt5gQB"
      },
      "execution_count": null,
      "outputs": []
    },
    {
      "cell_type": "code",
      "source": [
        "dfdt.indice_tiempo.dt.month_name()"
      ],
      "metadata": {
        "id": "sd-DEAEy6Jc7"
      },
      "execution_count": null,
      "outputs": []
    },
    {
      "cell_type": "code",
      "source": [
        "dfdt[dfdt.indicador == \"Generación\"].groupby([dfdt.indice_tiempo.dt.year, dfdt.indice_tiempo.dt.month_name()]).aggregate({\"valor\": \"sum\"}).unstack()"
      ],
      "metadata": {
        "id": "vxySBAcXMId9"
      },
      "execution_count": null,
      "outputs": []
    },
    {
      "cell_type": "markdown",
      "source": [
        "---\n",
        "# El dinamismo entre pivot_table y multi index groupby. ¿Dos caras de una moneda? 🤔\n",
        "## Analicemos como es la generacion de cada tipo de energia por año"
      ],
      "metadata": {
        "id": "ANu3qzx-No-1"
      }
    },
    {
      "cell_type": "code",
      "source": [
        "df.head()"
      ],
      "metadata": {
        "id": "FFt4GYb_TXPX"
      },
      "execution_count": null,
      "outputs": []
    },
    {
      "cell_type": "code",
      "source": [
        "df[df[\"indicador\"] == \"Generación\"].pivot_table(\n",
        "    index = [\"actividad_producto_nombre\", \"year\"],\n",
        "    columns = [],\n",
        "    values = [\"valor\"],\n",
        "    aggfunc = [\"sum\"],\n",
        "    margins = True\n",
        ").unstack()"
      ],
      "metadata": {
        "id": "qFkjIsPnTLd2"
      },
      "execution_count": null,
      "outputs": []
    },
    {
      "cell_type": "code",
      "source": [
        "# con stack() podemos generar una tabla agrupada a partir de una pivot table on the fly\n",
        "energia_anio_valor_pivot_stack = df[df[\"indicador\"] == \"Generación\"].pivot_table(\n",
        "    index = [\"actividad_producto_nombre\"],\n",
        "    columns = [\"year\"],\n",
        "    values = [\"valor\"],\n",
        "    aggfunc = [\"sum\"],\n",
        "    margins = False\n",
        ").stack()"
      ],
      "metadata": {
        "id": "SKu993wkWGB4"
      },
      "execution_count": null,
      "outputs": []
    },
    {
      "cell_type": "code",
      "source": [
        "# una serie con dos dimensiones [\"actividad_producto_nombre\", \"year\"] puede ser representada como un dataframe usando el metodo unstack()\n",
        "energia_anio_valor_group = df[df[\"indicador\"] == \"Generación\"].groupby([\"actividad_producto_nombre\", \"year\"]).aggregate({\"valor\": \"sum\"})"
      ],
      "metadata": {
        "id": "nqFFImkjWs5w"
      },
      "execution_count": null,
      "outputs": []
    },
    {
      "cell_type": "markdown",
      "source": [
        "<p>\n",
        "<q style='quotes: \"“\" \"”\";'>Many programmers and SQL analysts ﬁnd the .groupby syntax intuitive,<br>while Excel junkies often feel more at home with the .pivot_table method.</q>\n",
        "</p>\n",
        "\n",
        "*Effective Pandas: Patterns For Data Manipulation, Matt Harrison (2021) p. 240*"
      ],
      "metadata": {
        "id": "4o20dRXw6MXo"
      }
    },
    {
      "cell_type": "code",
      "source": [
        "display(\"energia_anio_valor_pivot_stack\", \"energia_anio_valor_group\")"
      ],
      "metadata": {
        "id": "4ngAJnGG5tHj"
      },
      "execution_count": null,
      "outputs": []
    },
    {
      "cell_type": "markdown",
      "source": [
        "#### groupby y pivot admiten especificar funciones para cada columna por separado"
      ],
      "metadata": {
        "id": "5zc8xKBXB2Rd"
      }
    },
    {
      "cell_type": "code",
      "source": [
        "df_pivot_specific = df[df[\"indicador\"] == \"Generación\"].pivot_table(\n",
        "                                                index = \"actividad_producto_nombre\",\n",
        "                                                aggfunc = {\n",
        "                                                            \"sector_id\": [\"size\"],\n",
        "                                                            \"valor\": [\"min\", \"max\"]\n",
        "                                                }\n",
        ")"
      ],
      "metadata": {
        "id": "urZDSsgFB-Fx"
      },
      "execution_count": null,
      "outputs": []
    },
    {
      "cell_type": "code",
      "source": [
        "df_group_specific = df[df[\"indicador\"] == \"Generación\"].groupby(\"actividad_producto_nombre\").aggregate({\n",
        "                                                                            \"sector_id\": [\"size\"],\n",
        "                                                                            \"valor\": [\"min\", \"max\"]    \n",
        "})"
      ],
      "metadata": {
        "id": "c1PwtGaCC2zj"
      },
      "execution_count": null,
      "outputs": []
    },
    {
      "cell_type": "code",
      "source": [
        "display(\"df_pivot_specific\", \"df_group_specific\")"
      ],
      "metadata": {
        "id": "ndPbC_AhDH5E"
      },
      "execution_count": null,
      "outputs": []
    },
    {
      "cell_type": "markdown",
      "source": [
        "---\n",
        "# Bonus tricks 🔥💥⚡"
      ],
      "metadata": {
        "id": "1H_TXANL7xBS"
      }
    },
    {
      "cell_type": "markdown",
      "source": [
        "### np.where"
      ],
      "metadata": {
        "id": "IyWLs0R88L0Q"
      }
    },
    {
      "cell_type": "markdown",
      "source": [
        "\n",
        "\n",
        "```python\n",
        "np.where(\n",
        "    condicional (mascara booleana),\n",
        "    serie/lista/funcion()/escalar si es True,\n",
        "    serie/lista/funcion()/escalar si es False\n",
        ")\n",
        "```\n",
        "usar el atributo .values en las series del df que se usen:\n",
        "\n",
        "\n",
        "```python\n",
        "df[\"nombre_columna\"].values\n",
        "```\n",
        "\n",
        "\n",
        "\n"
      ],
      "metadata": {
        "id": "wRK_3JLJ8Xkx"
      }
    },
    {
      "cell_type": "code",
      "source": [
        ""
      ],
      "metadata": {
        "id": "GVhk13t38XVi"
      },
      "execution_count": null,
      "outputs": []
    },
    {
      "cell_type": "code",
      "source": [
        ""
      ],
      "metadata": {
        "id": "cRJ2vgqe8KDt"
      },
      "execution_count": null,
      "outputs": []
    },
    {
      "cell_type": "markdown",
      "source": [
        "### np.select (para multiples condiciones)"
      ],
      "metadata": {
        "id": "e2eg11U49YaF"
      }
    },
    {
      "cell_type": "markdown",
      "source": [
        "\n",
        "\n",
        "```python\n",
        "conditions = [lista de mascaras booleanas]\n",
        "\n",
        "choices = [lista de lo que se coloca en caso de que la mascara booleana sea True]\n",
        "\n",
        "np.select(conditions, choices, default=\"NA\")\n",
        "```\n",
        "prestar atencion a que el argumento **default** es el valor que toma en caso de que ninguna de las condiciones booleanas sea True.\n"
      ],
      "metadata": {
        "id": "fiy1rCvf9ib4"
      }
    },
    {
      "cell_type": "code",
      "source": [
        "conditions = [\n",
        "            dfdt.indice_tiempo.dt.month.isin([1, 2, 3]), # verano\n",
        "            dfdt.indice_tiempo.dt.month.isin([4, 5, 6]), # otoño\n",
        "            dfdt.indice_tiempo.dt.month.isin([7, 8, 9]), # invierno\n",
        "            dfdt.indice_tiempo.dt.month.isin([10, 11, 12]),  # primavera\n",
        "]\n",
        "\n",
        "choices = [\n",
        "           \"verano\",\n",
        "           \"otoño\",\n",
        "           \"invierno\",\n",
        "           \"primavera\"\n",
        "]\n",
        "\n",
        "dfdt[\"estacion\"] = np.select(conditions, choices, default=\"no hay info\")"
      ],
      "metadata": {
        "id": "FKxko1Ms9cue"
      },
      "execution_count": null,
      "outputs": []
    },
    {
      "cell_type": "code",
      "source": [
        "dfdt_season_np_select = dfdt.groupby(\"estacion\").aggregate({\"valor\": [\"size\", \"count\", \"sum\"]}) # count retorna el conteo de valores no NaN."
      ],
      "metadata": {
        "id": "Qll_-WGb8Y5K"
      },
      "execution_count": null,
      "outputs": []
    },
    {
      "cell_type": "code",
      "source": [
        "dfdt_season_np_select"
      ],
      "metadata": {
        "id": "dknfv1HyCAlx"
      },
      "execution_count": null,
      "outputs": []
    },
    {
      "cell_type": "markdown",
      "source": [
        "#### Tambien podemos lograr el mismo output usando agrupamiento con funcion sobre el index"
      ],
      "metadata": {
        "id": "aBbrBF9S-Auo"
      }
    },
    {
      "cell_type": "code",
      "source": [
        "dfdt_index = dfdt.set_index(\"indice_tiempo\")"
      ],
      "metadata": {
        "id": "GMaVmeg4-gnd"
      },
      "execution_count": null,
      "outputs": []
    },
    {
      "cell_type": "code",
      "source": [
        "def season_grouper(idx):\n",
        "    if idx.month in [1, 2, 3]:\n",
        "        return \"verano\"\n",
        "    elif idx.month in [4, 5, 6]:\n",
        "        return \"otoño\"\n",
        "    elif idx.month in [7, 8, 9]:\n",
        "        return \"invierno\"\n",
        "    elif idx.month in [10, 11, 12]:\n",
        "        return \"primavera\"\n",
        "    else:\n",
        "        return \"no hay info\""
      ],
      "metadata": {
        "id": "wdrUrBa59_hY"
      },
      "execution_count": null,
      "outputs": []
    },
    {
      "cell_type": "code",
      "source": [
        "dfdt_index_pivot = dfdt_index.pivot_table(index=season_grouper, values=[\"valor\"], aggfunc=[\"size\", \"count\", \"sum\"])\n",
        "\n",
        "\n",
        "\n",
        "dfdt_index_group = dfdt_index.groupby(season_grouper).aggregate({\"valor\": [\"size\", \"count\", \"sum\"]})"
      ],
      "metadata": {
        "id": "1JRdI8I6-tMf"
      },
      "execution_count": null,
      "outputs": []
    },
    {
      "cell_type": "code",
      "source": [
        "display(\"dfdt_index_pivot\", \"dfdt_index_group\", \"dfdt_season_np_select\")"
      ],
      "metadata": {
        "id": "8XMImMiXATQH"
      },
      "execution_count": null,
      "outputs": []
    },
    {
      "cell_type": "code",
      "source": [
        "def funcion_personalizada(x):\n",
        "    return x.mean() * 100\n",
        "\n",
        "df.groupby(\"actividad_producto_nombre\").aggregate({\"valor\": funcion_personalizada})"
      ],
      "metadata": {
        "id": "2OF-dqPZC0RZ"
      },
      "execution_count": null,
      "outputs": []
    },
    {
      "cell_type": "code",
      "source": [
        "df.groupby(\"actividad_producto_nombre\").aggregate({\"valor\": \"mean\"}) * 100"
      ],
      "metadata": {
        "id": "WcmAVUaPDw4b"
      },
      "execution_count": null,
      "outputs": []
    },
    {
      "cell_type": "markdown",
      "source": [
        "### seleccion con multi index: la magia del .loc[ ]\n",
        "\n",
        "\n"
      ],
      "metadata": {
        "id": "EIGjw5atjAb-"
      }
    },
    {
      "cell_type": "markdown",
      "source": [
        "```python\n",
        "df.loc[filas, columnas]\n",
        "\n",
        "df.loc[(niveles de indice separados por coma), :]\n",
        "\n",
        "slice(None) se usa para seleccionar todos indices de un nivel dado\n",
        "\n",
        "```"
      ],
      "metadata": {
        "id": "s7gkbCJH97P-"
      }
    },
    {
      "cell_type": "markdown",
      "source": [
        "### strip para los nombres de columnas"
      ],
      "metadata": {
        "id": "qCJ4hk7jqy95"
      }
    },
    {
      "cell_type": "code",
      "source": [
        "test.columns = test.columns.str.strip()"
      ],
      "metadata": {
        "id": "PL5k1PQSqC8j"
      },
      "execution_count": null,
      "outputs": []
    },
    {
      "cell_type": "code",
      "source": [
        "test.columns = [col.strip() for col in test.columns]"
      ],
      "metadata": {
        "id": "QKo7trCyqNcQ"
      },
      "execution_count": null,
      "outputs": []
    }
  ]
}